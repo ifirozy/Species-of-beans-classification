{
  "nbformat": 4,
  "nbformat_minor": 0,
  "metadata": {
    "colab": {
      "name": "knn_svm_tree.ipynb",
      "provenance": [],
      "collapsed_sections": []
    },
    "kernelspec": {
      "display_name": "Python 3",
      "name": "python3"
    },
    "language_info": {
      "name": "python"
    }
  },
  "cells": [
    {
      "cell_type": "code",
      "metadata": {
        "id": "jcjO4CTsTPqH"
      },
      "source": [
        "import numpy as np\n",
        "import pandas as pd\n",
        "import matplotlib.pyplot as plt\n",
        "from sklearn.neighbors import KNeighborsClassifier\n",
        "import seaborn as sns\n",
        "# from sklearn.cross_validation import train_test_split,KFold,cross_val_score\n",
        "from sklearn.neighbors import KNeighborsClassifier\n",
        "from sklearn.metrics import accuracy_score"
      ],
      "execution_count": null,
      "outputs": []
    },
    {
      "cell_type": "code",
      "metadata": {
        "colab": {
          "base_uri": "https://localhost:8080/"
        },
        "id": "4ANaHEHnvRpF",
        "outputId": "d6cd0a43-8e12-4c04-dd27-954317388a6f"
      },
      "source": [
        "from google.colab import drive\n",
        "drive.mount('/content/drive')"
      ],
      "execution_count": null,
      "outputs": [
        {
          "output_type": "stream",
          "text": [
            "Mounted at /content/drive\n"
          ],
          "name": "stdout"
        }
      ]
    },
    {
      "cell_type": "code",
      "metadata": {
        "id": "u6tf7EyqDrBC"
      },
      "source": [
        "#'barishim5','jamaikuli','jobalal','jolkartika','kolashim','korishim','koromja','motorshim','reshmilishim'"
      ],
      "execution_count": null,
      "outputs": []
    },
    {
      "cell_type": "markdown",
      "metadata": {
        "id": "ZjxU1K66VqqW"
      },
      "source": [
        "IMAGE DATASET TO NUMPY DATASET"
      ]
    },
    {
      "cell_type": "code",
      "metadata": {
        "colab": {
          "background_save": true
        },
        "id": "NDuDV5pYHzG-",
        "outputId": "d3503eb4-a735-4125-e25c-321386d3dd0b"
      },
      "source": [
        "# import necessary packages\n",
        " \n",
        "from sklearn.neighbors import KNeighborsClassifier\n",
        "from sklearn.preprocessing import LabelEncoder\n",
        "from sklearn.model_selection import  train_test_split\n",
        "from sklearn.metrics import classification_report\n",
        "# from pyimagesearch import simplepreprocessor\n",
        "# from pyimagesearch import simpledatasetloader\n",
        "from imutils import paths\n",
        "import os\n",
        "import glob\n",
        "import cv2\n",
        "import numpy as np\n",
        " \n",
        "def getListOfFiles(dirName):\n",
        "    # create a list of file and sub directories\n",
        "    # names in the given directory\n",
        "    listOfFile = os.listdir(dirName)\n",
        "    allFiles = list()\n",
        "    # Iterate over all the entries\n",
        "    for entry in listOfFile:\n",
        "        # Create full path\n",
        "        fullPath = os.path.join(dirName, entry)\n",
        "        # If entry is a directory then get the list of files in this directory\n",
        "        if os.path.isdir(fullPath):\n",
        "            allFiles = allFiles + getListOfFiles(fullPath)\n",
        "        else:\n",
        "            allFiles.append(fullPath)\n",
        " \n",
        "    return allFiles\n",
        " \n",
        "imagePaths = getListOfFiles(\"/content/drive/MyDrive/shim 22-4-21/train\") ## Folder structure: datasets --> sub-folders with labels name\n",
        "#print(imagePaths)\n",
        " \n",
        "data = []\n",
        "lables = []\n",
        "c = 0 ## to see the progress\n",
        "for image in imagePaths:\n",
        " \n",
        "    lable = os.path.split(os.path.split(image)[0])[1]\n",
        "    lables.append(lable)\n",
        " \n",
        "    img = cv2.imread(image)\n",
        "    img = cv2.resize(img, (32, 32), interpolation = cv2.INTER_AREA)\n",
        "    data.append(img)\n",
        "    c=c+1\n",
        "    # print(c)\n",
        " \n",
        "#print(lables)\n",
        " \n",
        "# encode the labels as integer\n",
        "data = np.array(data)\n",
        "lables = np.array(lables)\n",
        " \n",
        "le = LabelEncoder()\n",
        "lables = le.fit_transform(lables)\n",
        " \n",
        "myset = set(lables)\n",
        "print(myset)\n",
        " \n",
        "dataset_size = data.shape[0]\n",
        "data = data.reshape(dataset_size,-1)\n",
        " \n",
        "print(data.shape)\n",
        "print(lables.shape)\n",
        "print(dataset_size)"
      ],
      "execution_count": null,
      "outputs": [
        {
          "output_type": "stream",
          "text": [
            "{0, 1, 2, 3, 4, 5, 6, 7, 8}\n",
            "(5402, 3072)\n",
            "(5402,)\n",
            "5402\n"
          ],
          "name": "stdout"
        }
      ]
    },
    {
      "cell_type": "code",
      "metadata": {
        "colab": {
          "base_uri": "https://localhost:8080/"
        },
        "id": "-rjS6XZPQIcl",
        "outputId": "652acd11-0bd7-4de8-f5f5-76dd726e7846"
      },
      "source": [
        "lables"
      ],
      "execution_count": null,
      "outputs": [
        {
          "output_type": "execute_result",
          "data": {
            "text/plain": [
              "array([8, 8, 8, ..., 0, 0, 0])"
            ]
          },
          "metadata": {
            "tags": []
          },
          "execution_count": 5
        }
      ]
    },
    {
      "cell_type": "code",
      "metadata": {
        "colab": {
          "base_uri": "https://localhost:8080/"
        },
        "id": "F_Hb61S-RuSQ",
        "outputId": "1dfc064a-c7e2-46b1-fa7d-585e5165dbf1"
      },
      "source": [
        "lables.shape"
      ],
      "execution_count": null,
      "outputs": [
        {
          "output_type": "execute_result",
          "data": {
            "text/plain": [
              "(5402,)"
            ]
          },
          "metadata": {
            "tags": []
          },
          "execution_count": 6
        }
      ]
    },
    {
      "cell_type": "code",
      "metadata": {
        "colab": {
          "base_uri": "https://localhost:8080/"
        },
        "id": "rPzDPllqRya_",
        "outputId": "14511eba-f5a4-4f4e-e09d-a9f1a1929fa5"
      },
      "source": [
        "np.unique(lables) #total labels ##'barishim5','jamaikuli','jobalal','jolkartika','kolashim','korishim','koromja','motorshim','reshmilishim'"
      ],
      "execution_count": null,
      "outputs": [
        {
          "output_type": "execute_result",
          "data": {
            "text/plain": [
              "array([0, 1, 2, 3, 4, 5, 6, 7, 8])"
            ]
          },
          "metadata": {
            "tags": []
          },
          "execution_count": 7
        }
      ]
    },
    {
      "cell_type": "code",
      "metadata": {
        "id": "2D1KfEV5YA3g"
      },
      "source": [
        "# Import module to standardize the scale\n",
        "from sklearn.preprocessing import StandardScaler\n",
        "# Create instance (i.e. object) of the standard scaler\n",
        "scaler = StandardScaler()\n",
        "# Fit the object to all the data except the Target Class\n",
        "# use the .drop() method to gather all features except Target Class\n",
        "# axis -> argument refers to columns; a 0 would represent rows\n",
        "# scaler.fit(df.drop('TARGET CLASS', axis=1))"
      ],
      "execution_count": null,
      "outputs": []
    },
    {
      "cell_type": "code",
      "metadata": {
        "colab": {
          "base_uri": "https://localhost:8080/"
        },
        "id": "pzZsMcY6YOzU",
        "outputId": "887f0327-e8ea-4232-e458-3f840aa0acc0"
      },
      "source": [
        "scaler.fit(data)"
      ],
      "execution_count": null,
      "outputs": [
        {
          "output_type": "execute_result",
          "data": {
            "text/plain": [
              "StandardScaler(copy=True, with_mean=True, with_std=True)"
            ]
          },
          "metadata": {
            "tags": []
          },
          "execution_count": 9
        }
      ]
    },
    {
      "cell_type": "code",
      "metadata": {
        "colab": {
          "base_uri": "https://localhost:8080/"
        },
        "id": "9-s5wivvYp6C",
        "outputId": "ca7800b5-3482-4577-8eea-0422c7064cad"
      },
      "source": [
        "# Use scaler object to conduct a transforms\n",
        "scaled_features = scaler.transform(data)\n",
        "# Review the array of values generated from the scaled features process\n",
        "scaled_features"
      ],
      "execution_count": null,
      "outputs": [
        {
          "output_type": "execute_result",
          "data": {
            "text/plain": [
              "array([[ 0.61519952,  0.54983097,  0.55668063, ...,  1.23832762,\n",
              "         1.26324709,  1.25598653],\n",
              "       [ 0.38570139,  0.38195488,  0.44394797, ...,  0.81153146,\n",
              "         0.8703178 ,  0.87312831],\n",
              "       [-1.20985705, -1.20727212, -1.21322212, ..., -1.22136605,\n",
              "        -1.22145283, -1.22679097],\n",
              "       ...,\n",
              "       [-1.20985705, -1.20727212, -1.21322212, ..., -1.22136605,\n",
              "        -1.22145283, -1.22679097],\n",
              "       [-0.29186453, -0.27835774, -0.25499451, ...,  0.17133721,\n",
              "         0.16535642,  0.16542071],\n",
              "       [ 0.16713174,  0.14692835,  0.16211633, ...,  0.63182781,\n",
              "         0.62762618,  0.61788951]])"
            ]
          },
          "metadata": {
            "tags": []
          },
          "execution_count": 10
        }
      ]
    },
    {
      "cell_type": "code",
      "metadata": {
        "id": "m4d1YySjY8LL"
      },
      "source": [
        "# Use the train_test_split() method to split the data into respective sets\n",
        "# test_size -> argument refers to the size of the test subset\n",
        "# random_state -> argument ensures guarantee that the output of Run \n",
        "# 1 will be equal to the output of Run 2, i.e. your split will be always the same\n",
        "X_train, X_test, y_train, y_test = train_test_split(scaled_features, lables, test_size=0.2, random_state=101)"
      ],
      "execution_count": null,
      "outputs": []
    },
    {
      "cell_type": "code",
      "metadata": {
        "colab": {
          "base_uri": "https://localhost:8080/"
        },
        "id": "s1XOzHx3Y8FT",
        "outputId": "77d9e11c-6b84-48bd-a5b6-56b30591f85f"
      },
      "source": [
        "knn = KNeighborsClassifier(n_neighbors=1)\n",
        "# Fit (i.e. traing) the model\n",
        "knn.fit(X_train, y_train)"
      ],
      "execution_count": null,
      "outputs": [
        {
          "output_type": "execute_result",
          "data": {
            "text/plain": [
              "KNeighborsClassifier(algorithm='auto', leaf_size=30, metric='minkowski',\n",
              "                     metric_params=None, n_jobs=None, n_neighbors=1, p=2,\n",
              "                     weights='uniform')"
            ]
          },
          "metadata": {
            "tags": []
          },
          "execution_count": 12
        }
      ]
    },
    {
      "cell_type": "code",
      "metadata": {
        "colab": {
          "base_uri": "https://localhost:8080/"
        },
        "id": "i0vNZ03QY8BX",
        "outputId": "912c33a5-bb41-43b2-ade6-61e50b2a8ec0"
      },
      "source": [
        "# Use the .predict() method to make predictions from the X_test subset\n",
        "pred = knn.predict(X_test)\n",
        "# Review the predictions\n",
        "pred"
      ],
      "execution_count": null,
      "outputs": [
        {
          "output_type": "execute_result",
          "data": {
            "text/plain": [
              "array([0, 7, 4, ..., 3, 3, 7])"
            ]
          },
          "metadata": {
            "tags": []
          },
          "execution_count": 13
        }
      ]
    },
    {
      "cell_type": "code",
      "metadata": {
        "id": "ztpUepqhY78s"
      },
      "source": [
        "# Import classification report and confusion matrix to evaluate predictions\n",
        "from sklearn.metrics import classification_report, confusion_matrix"
      ],
      "execution_count": null,
      "outputs": []
    },
    {
      "cell_type": "code",
      "metadata": {
        "colab": {
          "base_uri": "https://localhost:8080/"
        },
        "id": "Uewxh80dY76S",
        "outputId": "cafcbcfc-82a2-4dfc-ee50-736cd84459fb"
      },
      "source": [
        "# Print out classification report and confusion matrix\n",
        "print(classification_report(y_test, pred))"
      ],
      "execution_count": null,
      "outputs": [
        {
          "output_type": "stream",
          "text": [
            "              precision    recall  f1-score   support\n",
            "\n",
            "           0       0.69      0.70      0.69       133\n",
            "           1       0.78      0.71      0.74       112\n",
            "           2       0.85      0.69      0.76       120\n",
            "           3       0.70      0.75      0.72       115\n",
            "           4       0.74      0.79      0.76       127\n",
            "           5       0.86      0.76      0.81       130\n",
            "           6       0.70      0.70      0.70       110\n",
            "           7       0.65      0.81      0.72       122\n",
            "           8       0.84      0.82      0.83       112\n",
            "\n",
            "    accuracy                           0.75      1081\n",
            "   macro avg       0.76      0.75      0.75      1081\n",
            "weighted avg       0.76      0.75      0.75      1081\n",
            "\n"
          ],
          "name": "stdout"
        }
      ]
    },
    {
      "cell_type": "code",
      "metadata": {
        "colab": {
          "base_uri": "https://localhost:8080/"
        },
        "id": "6SnGSkopY7pI",
        "outputId": "ceba8f7d-035b-4c20-dff1-24e77b043747"
      },
      "source": [
        "# Print out confusion matrix\n",
        "cmat = confusion_matrix(y_test, pred)\n",
        "#print(cmat)\n",
        "print('TP - True Negative {}'.format(cmat[0,0]))\n",
        "print('FP - False Positive {}'.format(cmat[0,1]))\n",
        "print('FN - False Negative {}'.format(cmat[1,0]))\n",
        "print('TP - True Positive {}'.format(cmat[1,1]))\n",
        "print('Accuracy Rate: {}'.format(np.divide(np.sum([cmat[0,0],cmat[1,1]]),np.sum(cmat))))\n",
        "print('Misclassification Rate: {}'.format(np.divide(np.sum([cmat[0,1],cmat[1,0]]),np.sum(cmat))))"
      ],
      "execution_count": null,
      "outputs": [
        {
          "output_type": "stream",
          "text": [
            "TP - True Negative 93\n",
            "FP - False Positive 8\n",
            "FN - False Negative 3\n",
            "TP - True Positive 80\n",
            "Accuracy Rate: 0.16003700277520813\n",
            "Misclassification Rate: 0.010175763182238668\n"
          ],
          "name": "stdout"
        }
      ]
    },
    {
      "cell_type": "code",
      "metadata": {
        "colab": {
          "base_uri": "https://localhost:8080/",
          "height": 287
        },
        "id": "hwWJ19iR7xSV",
        "outputId": "bfd33191-e02b-428d-d944-ca858f2a813c"
      },
      "source": [
        "import seaborn as sns\n",
        "sns.heatmap(cmat, annot=True)\n"
      ],
      "execution_count": null,
      "outputs": [
        {
          "output_type": "execute_result",
          "data": {
            "text/plain": [
              "<matplotlib.axes._subplots.AxesSubplot at 0x7fc1a105cc50>"
            ]
          },
          "metadata": {
            "tags": []
          },
          "execution_count": 17
        },
        {
          "output_type": "display_data",
          "data": {
            "image/png": "[encoded data removed]",
            "text/plain": [
              "<Figure size 432x288 with 2 Axes>"
            ]
          },
          "metadata": {
            "tags": [],
            "needs_background": "light"
          }
        }
      ]
    },
    {
      "cell_type": "code",
      "metadata": {
        "id": "zSuDsKyeZpgK"
      },
      "source": [
        "#Evaluate alternative K-values for better predictions"
      ],
      "execution_count": null,
      "outputs": []
    },
    {
      "cell_type": "code",
      "metadata": {
        "id": "EPsF8j3fZpb8"
      },
      "source": [
        "error_rate = []\n",
        "for i in range(1,20):\n",
        "    \n",
        "    knn = KNeighborsClassifier(n_neighbors=i)\n",
        "    knn.fit(X_train, y_train)\n",
        "    pred_i = knn.predict(X_test)\n",
        "    error_rate.append(np.mean(pred_i != y_test))"
      ],
      "execution_count": null,
      "outputs": []
    },
    {
      "cell_type": "code",
      "metadata": {
        "colab": {
          "base_uri": "https://localhost:8080/",
          "height": 313
        },
        "id": "z5UHg1w3ZpX1",
        "outputId": "84a7b394-88fe-4cd1-ab62-5e32e907ac73"
      },
      "source": [
        "# Configure and plot error rate over k values\n",
        "plt.figure(figsize=(10,4))\n",
        "plt.plot(range(1,20), error_rate, color='blue', linestyle='dashed', marker='o', markerfacecolor='red', markersize=10)\n",
        "plt.title('Error Rate vs. K-Values')\n",
        "plt.xlabel('K-Values')\n",
        "plt.ylabel('Error Rate')"
      ],
      "execution_count": null,
      "outputs": [
        {
          "output_type": "execute_result",
          "data": {
            "text/plain": [
              "Text(0, 0.5, 'Error Rate')"
            ]
          },
          "metadata": {
            "tags": []
          },
          "execution_count": 19
        },
        {
          "output_type": "display_data",
          "data": {
            "image/png": "[encoded data removed]",
            "text/plain": [
              "<Figure size 720x288 with 1 Axes>"
            ]
          },
          "metadata": {
            "tags": [],
            "needs_background": "light"
          }
        }
      ]
    },
    {
      "cell_type": "code",
      "metadata": {
        "id": "9mzU9hsoaRsl"
      },
      "source": [
        "# Retrain model using optimal k-value\n",
        "knn = KNeighborsClassifier(n_neighbors=4)\n",
        "knn.fit(X_train, y_train)\n",
        "pred = knn.predict(X_test)"
      ],
      "execution_count": null,
      "outputs": []
    },
    {
      "cell_type": "code",
      "metadata": {
        "colab": {
          "base_uri": "https://localhost:8080/"
        },
        "id": "Jd_7EAooZpRk",
        "outputId": "14eb6656-e650-4303-8e7e-8a653c70ef3e"
      },
      "source": [
        "# Print out classification report and confusion matrix\n",
        "print(classification_report(y_test, pred))"
      ],
      "execution_count": null,
      "outputs": [
        {
          "output_type": "stream",
          "text": [
            "              precision    recall  f1-score   support\n",
            "\n",
            "           0       0.46      0.68      0.55       133\n",
            "           1       0.53      0.57      0.55       112\n",
            "           2       0.78      0.60      0.68       120\n",
            "           3       0.52      0.57      0.54       115\n",
            "           4       0.71      0.72      0.71       127\n",
            "           5       0.86      0.55      0.67       130\n",
            "           6       0.64      0.56      0.60       110\n",
            "           7       0.56      0.64      0.60       122\n",
            "           8       0.72      0.62      0.67       112\n",
            "\n",
            "    accuracy                           0.62      1081\n",
            "   macro avg       0.64      0.61      0.62      1081\n",
            "weighted avg       0.64      0.62      0.62      1081\n",
            "\n"
          ],
          "name": "stdout"
        }
      ]
    },
    {
      "cell_type": "code",
      "metadata": {
        "colab": {
          "base_uri": "https://localhost:8080/"
        },
        "id": "9KDGlMpYabPM",
        "outputId": "31069dc1-99c8-4c58-ed09-a84e44ff4799"
      },
      "source": [
        "# Print out confusion matrix\n",
        "cmat = confusion_matrix(y_test, pred)\n",
        "#print(cmat)\n",
        "print('TP - True Negative {}'.format(cmat[0,0]))\n",
        "print('FP - False Positive {}'.format(cmat[0,1]))\n",
        "print('FN - False Negative {}'.format(cmat[1,0]))\n",
        "print('TP - True Positive {}'.format(cmat[1,1]))\n",
        "print('Accuracy Rate: {}'.format(np.divide(np.sum([cmat[0,0],cmat[1,1]]),np.sum(cmat))))\n",
        "print('Misclassification Rate: {}'.format(np.divide(np.sum([cmat[0,1],cmat[1,0]]),np.sum(cmat))))"
      ],
      "execution_count": null,
      "outputs": [
        {
          "output_type": "stream",
          "text": [
            "TP - True Negative 90\n",
            "FP - False Positive 7\n",
            "FN - False Negative 16\n",
            "TP - True Positive 64\n",
            "Accuracy Rate: 0.14246068455134134\n",
            "Misclassification Rate: 0.02127659574468085\n"
          ],
          "name": "stdout"
        }
      ]
    },
    {
      "cell_type": "code",
      "metadata": {
        "id": "m-m-81KQabIu"
      },
      "source": [
        "##More APPORACH to see knn"
      ],
      "execution_count": null,
      "outputs": []
    },
    {
      "cell_type": "code",
      "metadata": {
        "id": "vpkuGBnOabCl",
        "colab": {
          "base_uri": "https://localhost:8080/",
          "height": 284
        },
        "outputId": "e193a4f1-2c4a-4147-ffbb-4104d40a5a41"
      },
      "source": [
        "sns.heatmap(cmat, annot=True)\n"
      ],
      "execution_count": null,
      "outputs": [
        {
          "output_type": "execute_result",
          "data": {
            "text/plain": [
              "<matplotlib.axes._subplots.AxesSubplot at 0x7fc198a76fd0>"
            ]
          },
          "metadata": {
            "tags": []
          },
          "execution_count": 23
        },
        {
          "output_type": "display_data",
          "data": {
            "image/png": "[encoded data removed]",
            "text/plain": [
              "<Figure size 432x288 with 2 Axes>"
            ]
          },
          "metadata": {
            "tags": [],
            "needs_background": "light"
          }
        }
      ]
    },
    {
      "cell_type": "code",
      "metadata": {
        "id": "WrAvKhL2R_6T"
      },
      "source": [
        "(trainX, testX, trainY, testY ) = train_test_split(data, lables, test_size= 0.25, random_state=42)"
      ],
      "execution_count": null,
      "outputs": []
    },
    {
      "cell_type": "code",
      "metadata": {
        "colab": {
          "base_uri": "https://localhost:8080/"
        },
        "id": "MsPytUakSGv-",
        "outputId": "b6cbc1a8-2de2-456d-dd6c-5eb5639768bd"
      },
      "source": [
        "model = KNeighborsClassifier(n_neighbors=3, n_jobs=-1)\n",
        "model.fit(trainX, trainY)"
      ],
      "execution_count": null,
      "outputs": [
        {
          "output_type": "execute_result",
          "data": {
            "text/plain": [
              "KNeighborsClassifier(algorithm='auto', leaf_size=30, metric='minkowski',\n",
              "                     metric_params=None, n_jobs=-1, n_neighbors=3, p=2,\n",
              "                     weights='uniform')"
            ]
          },
          "metadata": {
            "tags": []
          },
          "execution_count": 25
        }
      ]
    },
    {
      "cell_type": "code",
      "metadata": {
        "colab": {
          "base_uri": "https://localhost:8080/"
        },
        "id": "VdtlJ0GrSJLs",
        "outputId": "d78b0be5-9628-493c-90fb-36a38254f0cb"
      },
      "source": [
        "print(classification_report(testY, model.predict(testX), target_names=le.classes_))"
      ],
      "execution_count": null,
      "outputs": [
        {
          "output_type": "stream",
          "text": [
            "              precision    recall  f1-score   support\n",
            "\n",
            "   barishim5       0.44      0.77      0.56       143\n",
            "   jamaikuli       0.70      0.67      0.69       168\n",
            "     jobalal       0.75      0.68      0.71       130\n",
            "  jolkartika       0.58      0.68      0.63       142\n",
            "    kolashim       0.68      0.72      0.70       145\n",
            "    korishim       0.85      0.64      0.73       141\n",
            "     koromja       0.78      0.58      0.66       161\n",
            "   motorshim       0.69      0.66      0.67       151\n",
            "reshmilishim       0.80      0.62      0.70       170\n",
            "\n",
            "    accuracy                           0.67      1351\n",
            "   macro avg       0.70      0.67      0.67      1351\n",
            "weighted avg       0.70      0.67      0.67      1351\n",
            "\n"
          ],
          "name": "stdout"
        }
      ]
    },
    {
      "cell_type": "code",
      "metadata": {
        "colab": {
          "base_uri": "https://localhost:8080/",
          "height": 332
        },
        "id": "vJYCkgXDSMS6",
        "outputId": "f890022b-eac4-4429-b467-e7bcaaa4f978"
      },
      "source": [
        "k_values = np.arange(1,26)\n",
        "scores = []\n",
        "\n",
        "for i in k_values:\n",
        "    clf = KNeighborsClassifier(n_neighbors=i)\n",
        "    clf.fit(trainX,trainY)\n",
        "    y_predict = clf.predict(testX)\n",
        "    scores.append(accuracy_score(testY,y_predict))\n",
        "\n",
        "print(\"Accuracy for {} is {}\".format(np.argmax(scores),max(scores)))\n",
        "\n",
        "plt.plot(np.arange(1,26),scores)\n",
        "plt.title('Varition of accuracy with K value,with best features from RFE and feature importance')\n",
        "plt.xlabel('K values')\n",
        "plt.ylabel('Accuracy')"
      ],
      "execution_count": null,
      "outputs": [
        {
          "output_type": "stream",
          "text": [
            "Accuracy for 0 is 0.7601776461880089\n"
          ],
          "name": "stdout"
        },
        {
          "output_type": "execute_result",
          "data": {
            "text/plain": [
              "Text(0, 0.5, 'Accuracy')"
            ]
          },
          "metadata": {
            "tags": []
          },
          "execution_count": 27
        },
        {
          "output_type": "display_data",
          "data": {
            "image/png": "[encoded data removed]",
            "text/plain": [
              "<Figure size 432x288 with 1 Axes>"
            ]
          },
          "metadata": {
            "tags": [],
            "needs_background": "light"
          }
        }
      ]
    },
    {
      "cell_type": "code",
      "metadata": {
        "id": "6Z90mcmnUBuX"
      },
      "source": [
        ""
      ],
      "execution_count": null,
      "outputs": []
    },
    {
      "cell_type": "markdown",
      "metadata": {
        "id": "bvraWlFKbFdz"
      },
      "source": [
        "#SVM"
      ]
    },
    {
      "cell_type": "code",
      "metadata": {
        "colab": {
          "base_uri": "https://localhost:8080/",
          "height": 310
        },
        "id": "nJ-yIcxabHFT",
        "outputId": "70b4bab5-e83b-4aa1-b5bc-cf000b5fe6bb"
      },
      "source": [
        "def plot_bar(lables, loc='left', relative=True):\n",
        "    width = 0.35\n",
        "    if loc == 'left':\n",
        "        n = -0.5\n",
        "    elif loc == 'right':\n",
        "        n = 0.5\n",
        "     \n",
        "    # calculate counts per type and sort, to ensure their order\n",
        "    unique, counts = np.unique(lables, return_counts=True)\n",
        "    sorted_index = np.argsort(unique)\n",
        "    unique = unique[sorted_index]\n",
        "     \n",
        "    if relative:\n",
        "        # plot as a percentage\n",
        "        counts = 100*counts[sorted_index]/len(lables)\n",
        "        ylabel_text = '% count'\n",
        "    else:\n",
        "        # plot counts\n",
        "        counts = counts[sorted_index]\n",
        "        ylabel_text = 'count'\n",
        "         \n",
        "    xtemp = np.arange(len(unique))\n",
        "     \n",
        "    plt.bar(xtemp + n*width, counts, align='center', alpha=.7, width=width)\n",
        "    plt.xticks(xtemp, unique, rotation=45)\n",
        "    plt.xlabel('equipment type')\n",
        "    plt.ylabel(ylabel_text)\n",
        " \n",
        "plt.suptitle('relative amount of photos per type')\n",
        "plot_bar(y_train, loc='left')\n",
        "plot_bar(y_test, loc='right')\n",
        "plt.legend([\n",
        "    'train ({0} photos)'.format(len(y_train)), \n",
        "    'test ({0} photos)'.format(len(y_test))\n",
        "]);"
      ],
      "execution_count": null,
      "outputs": [
        {
          "output_type": "display_data",
          "data": {
            "image/png": "[encoded data removed]",
            "text/plain": [
              "<Figure size 432x288 with 1 Axes>"
            ]
          },
          "metadata": {
            "tags": [],
            "needs_background": "light"
          }
        }
      ]
    },
    {
      "cell_type": "code",
      "metadata": {
        "id": "ksyPNiGxcqHd"
      },
      "source": [
        "#'barishim5'=0,\n",
        "#'jamaikuli'=1,\n",
        "#'jobalal'=2,\n",
        "#'jolkartika'=3,\n",
        "#'kolashim'=4,\n",
        "#'korishim'=5,\n",
        "#'koromja'=6,\n",
        "#'motorshim'=7,\n",
        "#'reshmilishim'=8"
      ],
      "execution_count": null,
      "outputs": []
    },
    {
      "cell_type": "code",
      "metadata": {
        "id": "GmHvIjtkemT9"
      },
      "source": [
        "from sklearn import datasets, svm, metrics"
      ],
      "execution_count": null,
      "outputs": []
    },
    {
      "cell_type": "code",
      "metadata": {
        "id": "rhbUo8rxda0w"
      },
      "source": [
        "clf = svm.SVC(gamma=0.001)\n",
        "\n",
        "# Split data into 50% train and 50% test subsets\n",
        "X_train, X_test, y_train, y_test = train_test_split(\n",
        "    data, lables, test_size=0.2, shuffle=True)\n",
        "\n",
        "# Learn the digits on the train subset\n",
        "clf.fit(X_train, y_train)\n",
        "\n",
        "# Predict the value of the digit on the test subset\n",
        "predicted = clf.predict(X_test)"
      ],
      "execution_count": null,
      "outputs": []
    },
    {
      "cell_type": "code",
      "metadata": {
        "id": "cgKkl7B1eyg-"
      },
      "source": [
        "# predicted"
      ],
      "execution_count": null,
      "outputs": []
    },
    {
      "cell_type": "code",
      "metadata": {
        "colab": {
          "base_uri": "https://localhost:8080/"
        },
        "id": "_zEOcOzYgr3f",
        "outputId": "bdab6bd3-37b3-4ef1-9735-b0cb5cdac5be"
      },
      "source": [
        "print(classification_report(y_test, predicted,target_names=le.classes_))"
      ],
      "execution_count": null,
      "outputs": [
        {
          "output_type": "stream",
          "text": [
            "              precision    recall  f1-score   support\n",
            "\n",
            "   barishim5       1.00      0.37      0.54       133\n",
            "   jamaikuli       1.00      0.55      0.71       128\n",
            "     jobalal       1.00      0.48      0.65       115\n",
            "  jolkartika       1.00      0.44      0.61       116\n",
            "    kolashim       1.00      0.47      0.64       114\n",
            "    korishim       1.00      0.43      0.61       115\n",
            "     koromja       0.17      1.00      0.28       105\n",
            "   motorshim       1.00      0.46      0.63       123\n",
            "reshmilishim       1.00      0.47      0.64       132\n",
            "\n",
            "    accuracy                           0.51      1081\n",
            "   macro avg       0.91      0.52      0.59      1081\n",
            "weighted avg       0.92      0.51      0.59      1081\n",
            "\n"
          ],
          "name": "stdout"
        }
      ]
    },
    {
      "cell_type": "code",
      "metadata": {
        "id": "kUhfV01ilLpg"
      },
      "source": [
        "#another way\n",
        "svm_classifier = svm.SVC(kernel='linear', C=1.0)\n",
        "svm_classifier.fit(X_train, y_train)\n",
        "ypred_sklearn = svm_classifier.predict(X_test)\n",
        "# svm_classifier.score(image_data,labels)"
      ],
      "execution_count": null,
      "outputs": []
    },
    {
      "cell_type": "code",
      "metadata": {
        "id": "CUU8dRmCFkIK"
      },
      "source": [
        "pred = knn.predict(X_test)"
      ],
      "execution_count": null,
      "outputs": []
    },
    {
      "cell_type": "code",
      "metadata": {
        "colab": {
          "base_uri": "https://localhost:8080/"
        },
        "id": "ZOSM4lM1lk3c",
        "outputId": "95bf44fa-106c-4459-80dc-c6b823aafaab"
      },
      "source": [
        "svm_classifier.score(X_test,y_test) #accuracy"
      ],
      "execution_count": null,
      "outputs": [
        {
          "output_type": "execute_result",
          "data": {
            "text/plain": [
              "0.7465309898242368"
            ]
          },
          "metadata": {
            "tags": []
          },
          "execution_count": 35
        }
      ]
    },
    {
      "cell_type": "code",
      "metadata": {
        "id": "PGJHE6FWF95G"
      },
      "source": [
        "pred = svm_classifier.predict(X_test)"
      ],
      "execution_count": null,
      "outputs": []
    },
    {
      "cell_type": "code",
      "metadata": {
        "id": "GDYv_nnblkt3",
        "colab": {
          "base_uri": "https://localhost:8080/"
        },
        "outputId": "3411bf78-f923-4746-ef54-c97954d92926"
      },
      "source": [
        "# Print out confusion matrix\n",
        "cmat = confusion_matrix(y_test, pred)\n",
        "#print(cmat)\n",
        "print('TP - True Negative {}'.format(cmat[0,0]))\n",
        "print('FP - False Positive {}'.format(cmat[0,1]))\n",
        "print('FN - False Negative {}'.format(cmat[1,0]))\n",
        "print('TP - True Positive {}'.format(cmat[1,1]))\n",
        "print('Accuracy Rate: {}'.format(np.divide(np.sum([cmat[0,0],cmat[1,1]]),np.sum(cmat))))\n",
        "print('Misclassification Rate: {}'.format(np.divide(np.sum([cmat[0,1],cmat[1,0]]),np.sum(cmat))))"
      ],
      "execution_count": null,
      "outputs": [
        {
          "output_type": "stream",
          "text": [
            "TP - True Negative 89\n",
            "FP - False Positive 9\n",
            "FN - False Negative 9\n",
            "TP - True Positive 96\n",
            "Accuracy Rate: 0.1711378353376503\n",
            "Misclassification Rate: 0.016651248843663275\n"
          ],
          "name": "stdout"
        }
      ]
    },
    {
      "cell_type": "code",
      "metadata": {
        "colab": {
          "base_uri": "https://localhost:8080/",
          "height": 287
        },
        "id": "Ce-cQrp1GMfD",
        "outputId": "a4589d4f-01a7-4d7c-ad69-481203a80a52"
      },
      "source": [
        "sns.heatmap(cmat, annot=True)"
      ],
      "execution_count": null,
      "outputs": [
        {
          "output_type": "execute_result",
          "data": {
            "text/plain": [
              "<matplotlib.axes._subplots.AxesSubplot at 0x7fc196343990>"
            ]
          },
          "metadata": {
            "tags": []
          },
          "execution_count": 38
        },
        {
          "output_type": "display_data",
          "data": {
            "image/png": "[encoded data removed]",
            "text/plain": [
              "<Figure size 432x288 with 2 Axes>"
            ]
          },
          "metadata": {
            "tags": [],
            "needs_background": "light"
          }
        }
      ]
    },
    {
      "cell_type": "markdown",
      "metadata": {
        "id": "GCy1u5cFkvvP"
      },
      "source": [
        "# DECISSION TREE"
      ]
    },
    {
      "cell_type": "code",
      "metadata": {
        "id": "IylHVbt0jMyh"
      },
      "source": [
        "from sklearn.tree import DecisionTreeClassifier # Import Decision Tree Classifier\n",
        "from sklearn.model_selection import train_test_split # Import train_test_split function\n",
        "from sklearn import metrics"
      ],
      "execution_count": null,
      "outputs": []
    },
    {
      "cell_type": "code",
      "metadata": {
        "colab": {
          "base_uri": "https://localhost:8080/"
        },
        "id": "02N5yCB6nZIp",
        "outputId": "c81dab66-207e-4e7c-8103-afd31393ab32"
      },
      "source": [
        "# Create Decision Tree classifer object\n",
        "clf = DecisionTreeClassifier(criterion=\"entropy\", max_depth=3)\n",
        "\n",
        "# Train Decision Tree Classifer\n",
        "clf = clf.fit(X_train,y_train)\n",
        "\n",
        "#Predict the response for test dataset\n",
        "y_pred = clf.predict(X_test)\n",
        "\n",
        "# Model Accuracy, how often is the classifier correct?\n",
        "print(\"Accuracy:\",metrics.accuracy_score(y_test, y_pred))"
      ],
      "execution_count": null,
      "outputs": [
        {
          "output_type": "stream",
          "text": [
            "Accuracy: 0.22849213691026826\n"
          ],
          "name": "stdout"
        }
      ]
    },
    {
      "cell_type": "code",
      "metadata": {
        "id": "uIDQpwg6nZGM"
      },
      "source": [
        "#better result"
      ],
      "execution_count": null,
      "outputs": []
    },
    {
      "cell_type": "code",
      "metadata": {
        "id": "uJ-XXqE_kx4F"
      },
      "source": [
        "# Create Decision Tree classifer object\n",
        "clf = DecisionTreeClassifier()\n",
        " \n",
        "# Train Decision Tree Classifer\n",
        "clf = clf.fit(X_train,y_train)\n",
        " \n",
        "#Predict the response for test dataset\n",
        "y_pred = clf.predict(X_test)"
      ],
      "execution_count": null,
      "outputs": []
    },
    {
      "cell_type": "code",
      "metadata": {
        "colab": {
          "base_uri": "https://localhost:8080/"
        },
        "id": "qYAmEYV7mgAM",
        "outputId": "ef918454-065a-4727-9959-ffb34beec45a"
      },
      "source": [
        "print(\"Accuracy:\",metrics.accuracy_score(y_test, y_pred))"
      ],
      "execution_count": null,
      "outputs": [
        {
          "output_type": "stream",
          "text": [
            "Accuracy: 0.6577243293246994\n"
          ],
          "name": "stdout"
        }
      ]
    },
    {
      "cell_type": "code",
      "metadata": {
        "id": "xcg32Dl_GqeH"
      },
      "source": [
        "predicted = clf.predict(X_test)"
      ],
      "execution_count": null,
      "outputs": []
    },
    {
      "cell_type": "code",
      "metadata": {
        "id": "2JOOyEz4mjNV",
        "colab": {
          "base_uri": "https://localhost:8080/"
        },
        "outputId": "c4e4e980-f23a-46e5-d3ae-ae1c93e97dc8"
      },
      "source": [
        "print(classification_report(y_test, predicted,target_names=le.classes_))"
      ],
      "execution_count": null,
      "outputs": [
        {
          "output_type": "stream",
          "text": [
            "              precision    recall  f1-score   support\n",
            "\n",
            "   barishim5       0.72      0.70      0.71       133\n",
            "   jamaikuli       0.68      0.76      0.72       128\n",
            "     jobalal       0.67      0.68      0.67       115\n",
            "  jolkartika       0.64      0.68      0.66       116\n",
            "    kolashim       0.67      0.61      0.64       114\n",
            "    korishim       0.72      0.63      0.67       115\n",
            "     koromja       0.48      0.56      0.52       105\n",
            "   motorshim       0.62      0.64      0.63       123\n",
            "reshmilishim       0.74      0.64      0.69       132\n",
            "\n",
            "    accuracy                           0.66      1081\n",
            "   macro avg       0.66      0.66      0.66      1081\n",
            "weighted avg       0.66      0.66      0.66      1081\n",
            "\n"
          ],
          "name": "stdout"
        }
      ]
    },
    {
      "cell_type": "code",
      "metadata": {
        "id": "RGNQWudLm4b8"
      },
      "source": [
        "pred = clf.predict(X_test)"
      ],
      "execution_count": null,
      "outputs": []
    },
    {
      "cell_type": "code",
      "metadata": {
        "id": "LV-YPBgPnR9B",
        "colab": {
          "base_uri": "https://localhost:8080/"
        },
        "outputId": "ca4d2267-eaae-458c-fc37-d3de2d308673"
      },
      "source": [
        "# Print out confusion matrix\n",
        "cmat = confusion_matrix(y_test, pred)\n",
        "#print(cmat)\n",
        "print('TP - True Negative {}'.format(cmat[0,0]))\n",
        "print('FP - False Positive {}'.format(cmat[0,1]))\n",
        "print('FN - False Negative {}'.format(cmat[1,0]))\n",
        "print('TP - True Positive {}'.format(cmat[1,1]))\n",
        "print('Accuracy Rate: {}'.format(np.divide(np.sum([cmat[0,0],cmat[1,1]]),np.sum(cmat))))\n",
        "print('Misclassification Rate: {}'.format(np.divide(np.sum([cmat[0,1],cmat[1,0]]),np.sum(cmat))))"
      ],
      "execution_count": null,
      "outputs": [
        {
          "output_type": "stream",
          "text": [
            "TP - True Negative 93\n",
            "FP - False Positive 6\n",
            "FN - False Negative 1\n",
            "TP - True Positive 97\n",
            "Accuracy Rate: 0.1757631822386679\n",
            "Misclassification Rate: 0.0064754856614246065\n"
          ],
          "name": "stdout"
        }
      ]
    },
    {
      "cell_type": "code",
      "metadata": {
        "id": "k_gYwBrzG4nJ",
        "colab": {
          "base_uri": "https://localhost:8080/",
          "height": 284
        },
        "outputId": "2111eb57-2ffe-4d04-f419-94a6f6a48224"
      },
      "source": [
        "sns.heatmap(cmat, annot=True)"
      ],
      "execution_count": null,
      "outputs": [
        {
          "output_type": "execute_result",
          "data": {
            "text/plain": [
              "<matplotlib.axes._subplots.AxesSubplot at 0x7fc1955ec690>"
            ]
          },
          "metadata": {
            "tags": []
          },
          "execution_count": 48
        },
        {
          "output_type": "display_data",
          "data": {
            "image/png": "[encoded data removed]",
            "text/plain": [
              "<Figure size 432x288 with 2 Axes>"
            ]
          },
          "metadata": {
            "tags": [],
            "needs_background": "light"
          }
        }
      ]
    },
    {
      "cell_type": "code",
      "metadata": {
        "id": "JorWEwa1G8Lb"
      },
      "source": [
        ""
      ],
      "execution_count": null,
      "outputs": []
    }
  ]
}